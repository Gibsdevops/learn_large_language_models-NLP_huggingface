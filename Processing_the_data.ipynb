{
  "nbformat": 4,
  "nbformat_minor": 0,
  "metadata": {
    "colab": {
      "provenance": [],
      "authorship_tag": "ABX9TyNDx9/+0g9LTI+cA+Ol1Nzm",
      "include_colab_link": true
    },
    "kernelspec": {
      "name": "python3",
      "display_name": "Python 3"
    },
    "language_info": {
      "name": "python"
    }
  },
  "cells": [
    {
      "cell_type": "markdown",
      "metadata": {
        "id": "view-in-github",
        "colab_type": "text"
      },
      "source": [
        "<a href=\"https://colab.research.google.com/github/Gibsdevops/learn_large_language_models-NLP_huggingface/blob/main/Processing_the_data.ipynb\" target=\"_parent\"><img src=\"https://colab.research.google.com/assets/colab-badge.svg\" alt=\"Open In Colab\"/></a>"
      ]
    },
    {
      "cell_type": "markdown",
      "source": [
        "**Loading a dataset from the Hub**"
      ],
      "metadata": {
        "id": "SswjG-nDjEUl"
      }
    },
    {
      "cell_type": "markdown",
      "source": [
        "for now, let’s focus on the MRPC dataset! This is one of the 10 datasets composing the GLUE benchmark, which is an academic benchmark that is used to measure the performance of ML models across 10 different text classification tasks.\n",
        "\n",
        "The 🤗 Datasets library provides a very simple command to download and cache a dataset on the Hub. We can download the MRPC dataset like this:"
      ],
      "metadata": {
        "id": "wYolegEBgArz"
      }
    },
    {
      "cell_type": "code",
      "execution_count": null,
      "metadata": {
        "id": "UjGERhQ3fihq"
      },
      "outputs": [],
      "source": [
        "from datasets import load_dataset\n",
        "\n",
        "raw_datasets = load_dataset(\"glue\", \"mrpc\")\n",
        "raw_datasets"
      ]
    },
    {
      "cell_type": "markdown",
      "source": [
        "As you can see, we get a DatasetDict object which contains the training set, the validation set, and the test set. Each of those contains several columns (sentence1, sentence2, label, and idx) and a variable number of rows, which are the number of elements in each set (so, there are 3,668 pairs of sentences in the training set, 408 in the validation set, and 1,725 in the test set)."
      ],
      "metadata": {
        "id": "l_usW3sQgj4T"
      }
    },
    {
      "cell_type": "markdown",
      "source": [
        "We can access each pair of sentences in our raw_datasets object by indexing, like with a dictionary:"
      ],
      "metadata": {
        "id": "jY23Y2uOgn45"
      }
    },
    {
      "cell_type": "code",
      "source": [
        "raw_train_dataset = raw_datasets[\"train\"]\n",
        "raw_train_dataset[0]\n",
        "#raw_train_dataset[1]"
      ],
      "metadata": {
        "id": "jYuV-D37gQln"
      },
      "execution_count": null,
      "outputs": []
    },
    {
      "cell_type": "markdown",
      "source": [
        "We can see the labels are already integers, so we won’t have to do any preprocessing there. To know which integer corresponds to which label, we can inspect the features of our raw_train_dataset. This will tell us the type of each column:"
      ],
      "metadata": {
        "id": "SIXj2wi9hdi5"
      }
    },
    {
      "cell_type": "code",
      "source": [
        "raw_train_dataset.features"
      ],
      "metadata": {
        "id": "12EnJFdlgxBR"
      },
      "execution_count": null,
      "outputs": []
    },
    {
      "cell_type": "markdown",
      "source": [
        "Behind the scenes, label is of type ClassLabel, and the mapping of integers to label name is stored in the names folder. 0 corresponds to not_equivalent, and 1 corresponds to equivalent."
      ],
      "metadata": {
        "id": "EMBzEx1Wh7AG"
      }
    },
    {
      "cell_type": "code",
      "source": [
        "#try looking at element 15 of the training set and element 87 of the validation set\n",
        "raw_train_dataset[14]"
      ],
      "metadata": {
        "id": "W3gZlevohki3"
      },
      "execution_count": null,
      "outputs": []
    },
    {
      "cell_type": "code",
      "source": [
        "raw_validation_dataset = raw_datasets[\"validation\"]\n",
        "raw_validation_dataset[86]"
      ],
      "metadata": {
        "id": "oGs8WdgZiQ-a"
      },
      "execution_count": null,
      "outputs": []
    },
    {
      "cell_type": "markdown",
      "source": [
        "To preprocess the dataset, we need to convert the text to numbers the model can make sense of. As you saw in the previous chapter, this is done with a tokenizer. We can feed the tokenizer one sentence or a list of sentences, so we can directly tokenize all the first sentences and all the second sentences of each pair like this"
      ],
      "metadata": {
        "id": "sU389S-SjeDV"
      }
    },
    {
      "cell_type": "code",
      "source": [
        "from transformers import AutoTokenizer\n",
        "\n",
        "checkpoint = \"bert-base-uncased\"\n",
        "tokenizer = AutoTokenizer.from_pretrained(checkpoint)\n",
        "#first sentences\n",
        "#tokenized_sentences_1 = tokenizer(raw_datasets[\"train\"][\"sentence1\"])\n",
        "#seconds sentences\n",
        "#tokenized_sentences_2 = tokenizer(raw_datasets[\"train\"][\"sentence2\"])"
      ],
      "metadata": {
        "id": "t6uTOtAGjfrm"
      },
      "execution_count": null,
      "outputs": []
    },
    {
      "cell_type": "markdown",
      "source": [
        "However, we can’t just pass two sequences to the model and get a prediction of whether the two sentences are paraphrases or not. We need to handle the two sequences as a pair, and apply the appropriate preprocessing. Fortunately, the tokenizer can also take a pair of sequences and prepare it the way our BERT model expects:"
      ],
      "metadata": {
        "id": "W9ZV0FEL6i03"
      }
    },
    {
      "cell_type": "code",
      "source": [],
      "metadata": {
        "id": "AJ1dql_H65tG"
      },
      "execution_count": null,
      "outputs": []
    },
    {
      "cell_type": "code",
      "source": [
        "sentence_15 = raw_train_dataset[14]\n",
        "#sentence_15\n",
        "#create inputs\n",
        "inputs = tokenizer(sentence_15['sentence1'], sentence_15['sentence1'])\n",
        "print(\"input_ids: \", inputs['input_ids'])\n",
        "print(\"token_type_ids: \", inputs['token_type_ids'])\n",
        "print(\"attention mask: \", inputs['attention_mask'])\n",
        "#token_type_ids tells the model which part of the input is the first sentence and which is the second sentence.\n",
        "#attention mask tells which tokens should be attended to and which ones shouldn't be attended to\n"
      ],
      "metadata": {
        "id": "ymr0uc6unjl-"
      },
      "execution_count": null,
      "outputs": []
    },
    {
      "cell_type": "code",
      "source": [
        "#decoded token_ids can we get back the words\n",
        "tokenizer.convert_ids_to_tokens(inputs['input_ids'])\n",
        "\n",
        "#[CLS] sentence1 [SEP] sentence2 [SEP]\n"
      ],
      "metadata": {
        "id": "XnV8EBxK7Ebp"
      },
      "execution_count": null,
      "outputs": []
    },
    {
      "cell_type": "markdown",
      "source": [
        "In general, you don’t need to worry about whether or not there are token_type_ids in your tokenized inputs: as long as you use the same checkpoint for the tokenizer and the model, everything will be fine as the tokenizer knows what to provide to its model."
      ],
      "metadata": {
        "id": "UREeD45N9ZYG"
      }
    },
    {
      "cell_type": "markdown",
      "source": [
        "Now that we have seen how our tokenizer can deal with one pair of sentences, we can use it to tokenize our whole dataset: like in the previous chapter, we can feed the tokenizer a list of pairs of sentences by giving it the list of first sentences, then the list of second sentences. This is also compatible with the padding and truncation options we saw in Chapter 2. So, one way to preprocess the training dataset is:"
      ],
      "metadata": {
        "id": "A30jZ5dT9kNX"
      }
    },
    {
      "cell_type": "code",
      "source": [
        "tokenized_dataset = tokenizer(\n",
        "    raw_datasets['train']['sentence1'],\n",
        "    raw_datasets['train']['sentence2'],\n",
        "    padding=True,\n",
        "    truncation=True,\n",
        ")"
      ],
      "metadata": {
        "id": "fHcT1Mt38y6A"
      },
      "execution_count": null,
      "outputs": []
    },
    {
      "cell_type": "markdown",
      "source": [
        "This works well, but it has the disadvantage of returning a dictionary (with our keys, input_ids, attention_mask, and token_type_ids, and values that are lists of lists). It will also only work if you have enough RAM to store your whole dataset during the tokenization (whereas the datasets from the 🤗 Datasets library are Apache Arrow files stored on the disk, so you only keep the samples you ask for loaded in memory).\n",
        "\n",
        "To keep the data as a dataset, we will use the Dataset.map() method. This also allows us some extra flexibility, if we need more preprocessing done than just tokenization. The map() method works by applying a function on each element of the dataset, so let’s define a function that tokenizes our inputs:"
      ],
      "metadata": {
        "id": "GOaXy8lg-jzP"
      }
    },
    {
      "cell_type": "code",
      "source": [
        "def tokenize_function(example):\n",
        "  return tokenizer(example['sentence1'], example['sentence2'], truncation=True, )"
      ],
      "metadata": {
        "id": "X7ecAm9A-CAx"
      },
      "execution_count": null,
      "outputs": []
    },
    {
      "cell_type": "markdown",
      "source": [
        "This function takes a dictionary (like the items of our dataset) and returns a new dictionary with the keys input_ids, attention_mask, and token_type_ids. Note that it also works if the example dictionary contains several samples (each key as a list of sentences) since the tokenizer works on lists of pairs of sentences, as seen before. This will allow us to use the option batched=True in our call to map(), which will greatly speed up the tokenization. The tokenizer is backed by a tokenizer written in Rust from the 🤗 Tokenizers library. This tokenizer can be very fast, but only if we give it lots of inputs at once.\n",
        "\n",
        "Note that we’ve left the padding argument out in our tokenization function for now. This is because padding all the samples to the maximum length is not efficient: it’s better to pad the samples when we’re building a batch, as then we only need to pad to the maximum length in that batch, and not the maximum length in the entire dataset. This can save a lot of time and processing power when the inputs have very variable lengths!"
      ],
      "metadata": {
        "id": "-tl_w2Cc_P3E"
      }
    },
    {
      "cell_type": "markdown",
      "source": [
        "Here is how we apply the tokenization function on all our datasets at once. We’re using batched=True in our call to map so the function is applied to multiple elements of our dataset at once, and not on each element separately. This allows for faster preprocessing."
      ],
      "metadata": {
        "id": "wsm03hT2_ZKc"
      }
    },
    {
      "cell_type": "code",
      "source": [
        "tokenized_datasets = raw_datasets.map(tokenize_function, batched=True)\n",
        "tokenized_datasets"
      ],
      "metadata": {
        "id": "k2QGGRgF_Qc7"
      },
      "execution_count": null,
      "outputs": []
    },
    {
      "cell_type": "markdown",
      "source": [
        "The way the 🤗 Datasets library applies this processing is by adding new fields to the datasets, one for each key in the dictionary returned by the preprocessing function:"
      ],
      "metadata": {
        "id": "odSlK9PY_3lq"
      }
    },
    {
      "cell_type": "markdown",
      "source": [
        "You can even use multiprocessing when applying your preprocessing function with map() by passing along a num_proc argument. We didn’t do this here because the 🤗 Tokenizers library already uses multiple threads to tokenize our samples faster, but if you are not using a fast tokenizer backed by this library, this could speed up your preprocessing.\n",
        "\n",
        "Our tokenize_function returns a dictionary with the keys input_ids, attention_mask, and token_type_ids, so those three fields are added to all splits of our dataset. Note that we could also have changed existing fields if our preprocessing function returned a new value for an existing key in the dataset to which we applied map()."
      ],
      "metadata": {
        "id": "S3RjwhueAHd-"
      }
    },
    {
      "cell_type": "markdown",
      "source": [
        "The last thing we will need to do is pad all the examples to the length of the longest element when we batch elements together — a technique we refer to as dynamic padding."
      ],
      "metadata": {
        "id": "KqRNjypBAW9H"
      }
    },
    {
      "cell_type": "markdown",
      "source": [
        "# **Dynamic padding**"
      ],
      "metadata": {
        "id": "e9ZUyEZBAqRT"
      }
    },
    {
      "cell_type": "markdown",
      "source": [
        "The function that is responsible for putting together samples inside a batch is called a collate function. It’s an argument you can pass when you build a DataLoader, the default being a function that will just convert your samples to PyTorch tensors and concatenate them (recursively if your elements are lists, tuples, or dictionaries). This won’t be possible in our case since the inputs we have won’t all be of the same size. We have deliberately postponed the padding, to only apply it as necessary on each batch and avoid having over-long inputs with a lot of padding. This will speed up training by quite a bit, but note that if you’re training on a TPU it can cause problems — TPUs prefer fixed shapes, even when that requires extra padding."
      ],
      "metadata": {
        "id": "-Ilkhi0XA_kg"
      }
    },
    {
      "cell_type": "markdown",
      "source": [
        "To do this in practice, we have to define a collate function that will apply the correct amount of padding to the items of the dataset we want to batch together. Fortunately, the 🤗 Transformers library provides us with such a function via DataCollatorWithPadding. It takes a tokenizer when you instantiate it (to know which padding token to use, and whether the model expects padding to be on the left or on the right of the inputs) and will do everything you need:"
      ],
      "metadata": {
        "id": "9wYuP_V8BKL0"
      }
    },
    {
      "cell_type": "code",
      "source": [
        "from transformers import DataCollatorWithPadding\n",
        "\n",
        "data_collator = DataCollatorWithPadding(tokenizer=tokenizer)\n"
      ],
      "metadata": {
        "id": "l7H1ho3e_mht"
      },
      "execution_count": null,
      "outputs": []
    },
    {
      "cell_type": "code",
      "source": [
        "#test\n",
        "#we have to remove the idx, sentence1, and sentence2 as they wont be needed\n",
        "\n",
        "samples = tokenized_datasets['train'][:8]\n",
        "#samples\n",
        "samples = {k: v for k, v in samples.items() if k not in ['idx', 'sentence1', 'sentence2']}\n",
        "\n",
        "length= [len(x) for x in samples['input_ids']]\n",
        "length"
      ],
      "metadata": {
        "id": "k_10S_v2BlNH"
      },
      "execution_count": null,
      "outputs": []
    },
    {
      "cell_type": "markdown",
      "source": [
        "No surprise, we get samples of varying length, from 32 to 67. Dynamic padding means the samples in this batch should all be padded to a length of 67, the maximum length inside the batch. Without dynamic padding, all of the samples would have to be padded to the maximum length in the whole dataset, or the maximum length the model can accept. Let’s double-check that our data_collator is dynamically padding the batch properly:"
      ],
      "metadata": {
        "id": "up-yVP9PCffc"
      }
    },
    {
      "cell_type": "code",
      "source": [
        "#batch\n",
        "\n",
        "batch = data_collator(samples)\n",
        "{k: v.shape for k, v in batch.items()}"
      ],
      "metadata": {
        "id": "VBcCZ3R7B1FG"
      },
      "execution_count": null,
      "outputs": []
    },
    {
      "cell_type": "markdown",
      "source": [
        "Looking good! Now that we’ve gone from raw text to batches our model can deal with, we’re ready to fine-tune it!"
      ],
      "metadata": {
        "id": "W6JwByO9DBk0"
      }
    },
    {
      "cell_type": "code",
      "source": [
        "# #btaching the whole dataset\n",
        "# #drop the idx, sentence1, sentence2,  and sentence3\n",
        "\n",
        "# tokenized_datasets_train = tokenized_datasets['train']\n",
        "\n",
        "# #remove the unnecessary columns\n",
        "# tokenized_datasets_train = {k: v for k, v in tokenized_datasets_train.items() if k not in ['idx', 'sentence1', 'sentence2']}\n",
        "\n",
        "# length= [len(x) for x in tokenized_da['input_ids']]\n",
        "# length"
      ],
      "metadata": {
        "id": "_p5whk4RC3E7"
      },
      "execution_count": null,
      "outputs": []
    },
    {
      "cell_type": "markdown",
      "source": [
        " Key Takeaways:\n",
        "\n",
        "Use batched=True with Dataset.map() for significantly faster preprocessing\n",
        "\n",
        "Dynamic padding with DataCollatorWithPadding is more efficient than fixed-length padding\n",
        "\n",
        "Always preprocess your data to match what your model expects (numerical tensors, correct column names)\n",
        "\n",
        "The 🤗 Datasets library provides powerful tools for efficient data processing at scale"
      ],
      "metadata": {
        "id": "RUEuSvjUFWOd"
      }
    },
    {
      "cell_type": "code",
      "source": [],
      "metadata": {
        "id": "1ngBsDHXDqkV"
      },
      "execution_count": null,
      "outputs": []
    }
  ]
}